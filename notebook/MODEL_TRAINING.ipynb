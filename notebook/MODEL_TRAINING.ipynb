{
 "cells": [
  {
   "cell_type": "markdown",
   "id": "83c5d179",
   "metadata": {},
   "source": [
    "# Model Training"
   ]
  },
  {
   "cell_type": "code",
   "execution_count": 1,
   "id": "534b4fde",
   "metadata": {},
   "outputs": [
    {
     "name": "stdout",
     "output_type": "stream",
     "text": [
      "Requirement already satisfied: pandas in /Users/aastik/Documents/ML/ML-Projects/venv/lib/python3.8/site-packages (from -r /Users/aastik/Documents/ML/ML-Projects/requirements.txt (line 1)) (2.0.3)\n",
      "Requirement already satisfied: numpy in /Users/aastik/Documents/ML/ML-Projects/venv/lib/python3.8/site-packages (from -r /Users/aastik/Documents/ML/ML-Projects/requirements.txt (line 2)) (1.24.4)\n",
      "Requirement already satisfied: seaborn in /Users/aastik/Documents/ML/ML-Projects/venv/lib/python3.8/site-packages (from -r /Users/aastik/Documents/ML/ML-Projects/requirements.txt (line 3)) (0.13.2)\n",
      "Requirement already satisfied: matplotlib in /Users/aastik/Documents/ML/ML-Projects/venv/lib/python3.8/site-packages (from -r /Users/aastik/Documents/ML/ML-Projects/requirements.txt (line 4)) (3.7.5)\n",
      "Requirement already satisfied: scikit-learn in /Users/aastik/Documents/ML/ML-Projects/venv/lib/python3.8/site-packages (from -r /Users/aastik/Documents/ML/ML-Projects/requirements.txt (line 5)) (1.3.2)\n",
      "Requirement already satisfied: catboost in /Users/aastik/Documents/ML/ML-Projects/venv/lib/python3.8/site-packages (from -r /Users/aastik/Documents/ML/ML-Projects/requirements.txt (line 6)) (1.2.8)\n",
      "Requirement already satisfied: xgboost in /Users/aastik/Documents/ML/ML-Projects/venv/lib/python3.8/site-packages (from -r /Users/aastik/Documents/ML/ML-Projects/requirements.txt (line 7)) (2.1.4)\n",
      "Requirement already satisfied: python-dateutil>=2.8.2 in /Users/aastik/Documents/ML/ML-Projects/venv/lib/python3.8/site-packages (from pandas->-r /Users/aastik/Documents/ML/ML-Projects/requirements.txt (line 1)) (2.9.0)\n",
      "Requirement already satisfied: pytz>=2020.1 in /Users/aastik/Documents/ML/ML-Projects/venv/lib/python3.8/site-packages (from pandas->-r /Users/aastik/Documents/ML/ML-Projects/requirements.txt (line 1)) (2025.2)\n",
      "Requirement already satisfied: tzdata>=2022.1 in /Users/aastik/Documents/ML/ML-Projects/venv/lib/python3.8/site-packages (from pandas->-r /Users/aastik/Documents/ML/ML-Projects/requirements.txt (line 1)) (2025.2)\n",
      "Requirement already satisfied: contourpy>=1.0.1 in /Users/aastik/Documents/ML/ML-Projects/venv/lib/python3.8/site-packages (from matplotlib->-r /Users/aastik/Documents/ML/ML-Projects/requirements.txt (line 4)) (1.1.1)\n",
      "Requirement already satisfied: cycler>=0.10 in /Users/aastik/Documents/ML/ML-Projects/venv/lib/python3.8/site-packages (from matplotlib->-r /Users/aastik/Documents/ML/ML-Projects/requirements.txt (line 4)) (0.12.1)\n",
      "Requirement already satisfied: fonttools>=4.22.0 in /Users/aastik/Documents/ML/ML-Projects/venv/lib/python3.8/site-packages (from matplotlib->-r /Users/aastik/Documents/ML/ML-Projects/requirements.txt (line 4)) (4.57.0)\n",
      "Requirement already satisfied: kiwisolver>=1.0.1 in /Users/aastik/Documents/ML/ML-Projects/venv/lib/python3.8/site-packages (from matplotlib->-r /Users/aastik/Documents/ML/ML-Projects/requirements.txt (line 4)) (1.4.7)\n",
      "Requirement already satisfied: packaging>=20.0 in /Users/aastik/Documents/ML/ML-Projects/venv/lib/python3.8/site-packages (from matplotlib->-r /Users/aastik/Documents/ML/ML-Projects/requirements.txt (line 4)) (25.0)\n",
      "Requirement already satisfied: pillow>=6.2.0 in /Users/aastik/Documents/ML/ML-Projects/venv/lib/python3.8/site-packages (from matplotlib->-r /Users/aastik/Documents/ML/ML-Projects/requirements.txt (line 4)) (10.4.0)\n",
      "Requirement already satisfied: pyparsing>=2.3.1 in /Users/aastik/Documents/ML/ML-Projects/venv/lib/python3.8/site-packages (from matplotlib->-r /Users/aastik/Documents/ML/ML-Projects/requirements.txt (line 4)) (3.1.4)\n",
      "Requirement already satisfied: importlib-resources>=3.2.0 in /Users/aastik/Documents/ML/ML-Projects/venv/lib/python3.8/site-packages (from matplotlib->-r /Users/aastik/Documents/ML/ML-Projects/requirements.txt (line 4)) (6.4.5)\n",
      "Requirement already satisfied: scipy>=1.5.0 in /Users/aastik/Documents/ML/ML-Projects/venv/lib/python3.8/site-packages (from scikit-learn->-r /Users/aastik/Documents/ML/ML-Projects/requirements.txt (line 5)) (1.10.1)\n",
      "Requirement already satisfied: joblib>=1.1.1 in /Users/aastik/Documents/ML/ML-Projects/venv/lib/python3.8/site-packages (from scikit-learn->-r /Users/aastik/Documents/ML/ML-Projects/requirements.txt (line 5)) (1.4.2)\n",
      "Requirement already satisfied: threadpoolctl>=2.0.0 in /Users/aastik/Documents/ML/ML-Projects/venv/lib/python3.8/site-packages (from scikit-learn->-r /Users/aastik/Documents/ML/ML-Projects/requirements.txt (line 5)) (3.5.0)\n",
      "Requirement already satisfied: graphviz in /Users/aastik/Documents/ML/ML-Projects/venv/lib/python3.8/site-packages (from catboost->-r /Users/aastik/Documents/ML/ML-Projects/requirements.txt (line 6)) (0.20.3)\n",
      "Requirement already satisfied: plotly in /Users/aastik/Documents/ML/ML-Projects/venv/lib/python3.8/site-packages (from catboost->-r /Users/aastik/Documents/ML/ML-Projects/requirements.txt (line 6)) (6.3.0)\n",
      "Requirement already satisfied: six in /Users/aastik/Documents/ML/ML-Projects/venv/lib/python3.8/site-packages (from catboost->-r /Users/aastik/Documents/ML/ML-Projects/requirements.txt (line 6)) (1.16.0)\n",
      "Requirement already satisfied: zipp>=3.1.0 in /Users/aastik/Documents/ML/ML-Projects/venv/lib/python3.8/site-packages (from importlib-resources>=3.2.0->matplotlib->-r /Users/aastik/Documents/ML/ML-Projects/requirements.txt (line 4)) (3.21.0)\n",
      "Requirement already satisfied: narwhals>=1.15.1 in /Users/aastik/Documents/ML/ML-Projects/venv/lib/python3.8/site-packages (from plotly->catboost->-r /Users/aastik/Documents/ML/ML-Projects/requirements.txt (line 6)) (1.42.1)\n"
     ]
    }
   ],
   "source": [
    "!pip install -r \"/Users/aastik/Documents/ML/ML-Projects/requirements.txt\""
   ]
  },
  {
   "cell_type": "code",
   "execution_count": 2,
   "id": "62de99db",
   "metadata": {},
   "outputs": [],
   "source": [
    "import numpy as np\n",
    "import seaborn as sns\n",
    "import pandas as pd\n",
    "import matplotlib.pyplot as plt\n",
    "## modelling\n",
    "from sklearn.metrics import mean_squared_error,r2_score\n",
    "from sklearn.neighbors import KNeighborsRegressor\n",
    "from sklearn.tree import DecisionTreeRegressor\n",
    "from sklearn.ensemble import RandomForestRegressor, AdaBoostRegressor\n",
    "from sklearn.svm import SVR\n",
    "from sklearn.linear_model import LinearRegression, Lasso, Ridge\n",
    "from sklearn.metrics import r2_score, mean_absolute_error, mean_squared_error\n",
    "from sklearn.model_selection import RandomizedSearchCV\n",
    "import warnings"
   ]
  },
  {
   "cell_type": "code",
   "execution_count": 3,
   "id": "6b655c40",
   "metadata": {},
   "outputs": [
    {
     "data": {
      "text/html": [
       "<div>\n",
       "<style scoped>\n",
       "    .dataframe tbody tr th:only-of-type {\n",
       "        vertical-align: middle;\n",
       "    }\n",
       "\n",
       "    .dataframe tbody tr th {\n",
       "        vertical-align: top;\n",
       "    }\n",
       "\n",
       "    .dataframe thead th {\n",
       "        text-align: right;\n",
       "    }\n",
       "</style>\n",
       "<table border=\"1\" class=\"dataframe\">\n",
       "  <thead>\n",
       "    <tr style=\"text-align: right;\">\n",
       "      <th></th>\n",
       "      <th>gender</th>\n",
       "      <th>race/ethnicity</th>\n",
       "      <th>parental level of education</th>\n",
       "      <th>lunch</th>\n",
       "      <th>test preparation course</th>\n",
       "      <th>math score</th>\n",
       "      <th>reading score</th>\n",
       "      <th>writing score</th>\n",
       "    </tr>\n",
       "  </thead>\n",
       "  <tbody>\n",
       "    <tr>\n",
       "      <th>0</th>\n",
       "      <td>female</td>\n",
       "      <td>group B</td>\n",
       "      <td>bachelor's degree</td>\n",
       "      <td>standard</td>\n",
       "      <td>none</td>\n",
       "      <td>72</td>\n",
       "      <td>72</td>\n",
       "      <td>74</td>\n",
       "    </tr>\n",
       "    <tr>\n",
       "      <th>1</th>\n",
       "      <td>female</td>\n",
       "      <td>group C</td>\n",
       "      <td>some college</td>\n",
       "      <td>standard</td>\n",
       "      <td>completed</td>\n",
       "      <td>69</td>\n",
       "      <td>90</td>\n",
       "      <td>88</td>\n",
       "    </tr>\n",
       "    <tr>\n",
       "      <th>2</th>\n",
       "      <td>female</td>\n",
       "      <td>group B</td>\n",
       "      <td>master's degree</td>\n",
       "      <td>standard</td>\n",
       "      <td>none</td>\n",
       "      <td>90</td>\n",
       "      <td>95</td>\n",
       "      <td>93</td>\n",
       "    </tr>\n",
       "    <tr>\n",
       "      <th>3</th>\n",
       "      <td>male</td>\n",
       "      <td>group A</td>\n",
       "      <td>associate's degree</td>\n",
       "      <td>free/reduced</td>\n",
       "      <td>none</td>\n",
       "      <td>47</td>\n",
       "      <td>57</td>\n",
       "      <td>44</td>\n",
       "    </tr>\n",
       "    <tr>\n",
       "      <th>4</th>\n",
       "      <td>male</td>\n",
       "      <td>group C</td>\n",
       "      <td>some college</td>\n",
       "      <td>standard</td>\n",
       "      <td>none</td>\n",
       "      <td>76</td>\n",
       "      <td>78</td>\n",
       "      <td>75</td>\n",
       "    </tr>\n",
       "  </tbody>\n",
       "</table>\n",
       "</div>"
      ],
      "text/plain": [
       "   gender race/ethnicity parental level of education         lunch  \\\n",
       "0  female        group B           bachelor's degree      standard   \n",
       "1  female        group C                some college      standard   \n",
       "2  female        group B             master's degree      standard   \n",
       "3    male        group A          associate's degree  free/reduced   \n",
       "4    male        group C                some college      standard   \n",
       "\n",
       "  test preparation course  math score  reading score  writing score  \n",
       "0                    none          72             72             74  \n",
       "1               completed          69             90             88  \n",
       "2                    none          90             95             93  \n",
       "3                    none          47             57             44  \n",
       "4                    none          76             78             75  "
      ]
     },
     "execution_count": 3,
     "metadata": {},
     "output_type": "execute_result"
    }
   ],
   "source": [
    "df = pd.read_csv('data/StudentsPerformance.csv')\n",
    "df.head()"
   ]
  },
  {
   "cell_type": "code",
   "execution_count": 6,
   "id": "51010f83",
   "metadata": {},
   "outputs": [],
   "source": [
    "X = df.drop(columns=['math score'],axis=1)"
   ]
  },
  {
   "cell_type": "code",
   "execution_count": 7,
   "id": "742fe884",
   "metadata": {},
   "outputs": [],
   "source": [
    "y = df['math score']"
   ]
  },
  {
   "cell_type": "code",
   "execution_count": 8,
   "id": "6f446e70",
   "metadata": {},
   "outputs": [
    {
     "data": {
      "text/html": [
       "<div>\n",
       "<style scoped>\n",
       "    .dataframe tbody tr th:only-of-type {\n",
       "        vertical-align: middle;\n",
       "    }\n",
       "\n",
       "    .dataframe tbody tr th {\n",
       "        vertical-align: top;\n",
       "    }\n",
       "\n",
       "    .dataframe thead th {\n",
       "        text-align: right;\n",
       "    }\n",
       "</style>\n",
       "<table border=\"1\" class=\"dataframe\">\n",
       "  <thead>\n",
       "    <tr style=\"text-align: right;\">\n",
       "      <th></th>\n",
       "      <th>gender</th>\n",
       "      <th>race/ethnicity</th>\n",
       "      <th>parental level of education</th>\n",
       "      <th>lunch</th>\n",
       "      <th>test preparation course</th>\n",
       "      <th>reading score</th>\n",
       "      <th>writing score</th>\n",
       "    </tr>\n",
       "  </thead>\n",
       "  <tbody>\n",
       "    <tr>\n",
       "      <th>0</th>\n",
       "      <td>female</td>\n",
       "      <td>group B</td>\n",
       "      <td>bachelor's degree</td>\n",
       "      <td>standard</td>\n",
       "      <td>none</td>\n",
       "      <td>72</td>\n",
       "      <td>74</td>\n",
       "    </tr>\n",
       "    <tr>\n",
       "      <th>1</th>\n",
       "      <td>female</td>\n",
       "      <td>group C</td>\n",
       "      <td>some college</td>\n",
       "      <td>standard</td>\n",
       "      <td>completed</td>\n",
       "      <td>90</td>\n",
       "      <td>88</td>\n",
       "    </tr>\n",
       "    <tr>\n",
       "      <th>2</th>\n",
       "      <td>female</td>\n",
       "      <td>group B</td>\n",
       "      <td>master's degree</td>\n",
       "      <td>standard</td>\n",
       "      <td>none</td>\n",
       "      <td>95</td>\n",
       "      <td>93</td>\n",
       "    </tr>\n",
       "    <tr>\n",
       "      <th>3</th>\n",
       "      <td>male</td>\n",
       "      <td>group A</td>\n",
       "      <td>associate's degree</td>\n",
       "      <td>free/reduced</td>\n",
       "      <td>none</td>\n",
       "      <td>57</td>\n",
       "      <td>44</td>\n",
       "    </tr>\n",
       "    <tr>\n",
       "      <th>4</th>\n",
       "      <td>male</td>\n",
       "      <td>group C</td>\n",
       "      <td>some college</td>\n",
       "      <td>standard</td>\n",
       "      <td>none</td>\n",
       "      <td>78</td>\n",
       "      <td>75</td>\n",
       "    </tr>\n",
       "  </tbody>\n",
       "</table>\n",
       "</div>"
      ],
      "text/plain": [
       "   gender race/ethnicity parental level of education         lunch  \\\n",
       "0  female        group B           bachelor's degree      standard   \n",
       "1  female        group C                some college      standard   \n",
       "2  female        group B             master's degree      standard   \n",
       "3    male        group A          associate's degree  free/reduced   \n",
       "4    male        group C                some college      standard   \n",
       "\n",
       "  test preparation course  reading score  writing score  \n",
       "0                    none             72             74  \n",
       "1               completed             90             88  \n",
       "2                    none             95             93  \n",
       "3                    none             57             44  \n",
       "4                    none             78             75  "
      ]
     },
     "execution_count": 8,
     "metadata": {},
     "output_type": "execute_result"
    }
   ],
   "source": [
    "X.head()"
   ]
  },
  {
   "cell_type": "code",
   "execution_count": 9,
   "id": "88eb426b",
   "metadata": {},
   "outputs": [
    {
     "data": {
      "text/plain": [
       "0      72\n",
       "1      69\n",
       "2      90\n",
       "3      47\n",
       "4      76\n",
       "       ..\n",
       "995    88\n",
       "996    62\n",
       "997    59\n",
       "998    68\n",
       "999    77\n",
       "Name: math score, Length: 1000, dtype: int64"
      ]
     },
     "execution_count": 9,
     "metadata": {},
     "output_type": "execute_result"
    }
   ],
   "source": [
    "y"
   ]
  },
  {
   "cell_type": "code",
   "execution_count": 10,
   "id": "c82d6b25",
   "metadata": {},
   "outputs": [],
   "source": [
    "## create column transformer with 3 types of transformer\n",
    "\n",
    "from sklearn.preprocessing import OneHotEncoder, StandardScaler\n",
    "from sklearn.compose import ColumnTransformer\n",
    "\n",
    "num_features = X.select_dtypes(exclude='object').columns\n",
    "cat_features = X.select_dtypes(include='object').columns\n",
    "\n",
    "numeric_transformer = StandardScaler()\n",
    "cat_transformer = OneHotEncoder()\n",
    "\n",
    "preprocessor = ColumnTransformer(\n",
    "  [\n",
    "    (\"StandardScaler\", numeric_transformer, num_features),\n",
    "    (\"OneHotEncoder\", cat_transformer, cat_features),\n",
    "  ]\n",
    ")\n",
    "\n"
   ]
  },
  {
   "cell_type": "code",
   "execution_count": 11,
   "id": "f0b9d2b1",
   "metadata": {},
   "outputs": [],
   "source": [
    "X = preprocessor.fit_transform(X)"
   ]
  },
  {
   "cell_type": "code",
   "execution_count": 15,
   "id": "5526372f",
   "metadata": {},
   "outputs": [
    {
     "data": {
      "text/plain": [
       "(1000, 19)"
      ]
     },
     "execution_count": 15,
     "metadata": {},
     "output_type": "execute_result"
    }
   ],
   "source": [
    "X.shape"
   ]
  },
  {
   "cell_type": "code",
   "execution_count": 16,
   "id": "181da9e0",
   "metadata": {},
   "outputs": [],
   "source": [
    "# seperate the data into training and testing\n",
    "\n",
    "from sklearn.model_selection import train_test_split\n",
    "\n",
    "X_train, X_test, y_train, y_test = train_test_split(X,y, test_size=0.2, random_state=42)"
   ]
  },
  {
   "cell_type": "code",
   "execution_count": 17,
   "id": "f7b77738",
   "metadata": {},
   "outputs": [
    {
     "data": {
      "text/plain": [
       "array([[ 0.05694554,  0.45733301,  1.        , ...,  1.        ,\n",
       "         0.        ,  1.        ],\n",
       "       [ 0.94779033,  0.98406266,  1.        , ...,  0.        ,\n",
       "         1.        ,  0.        ],\n",
       "       [ 1.35894946,  1.18158627,  1.        , ...,  0.        ,\n",
       "         0.        ,  1.        ],\n",
       "       ...,\n",
       "       [-0.49126664, -0.99117351,  1.        , ...,  1.        ,\n",
       "         0.        ,  1.        ],\n",
       "       [-1.45063795, -0.99117351,  0.        , ...,  0.        ,\n",
       "         1.        ,  0.        ],\n",
       "       [ 1.4960025 ,  1.37910989,  1.        , ...,  1.        ,\n",
       "         0.        ,  1.        ]])"
      ]
     },
     "execution_count": 17,
     "metadata": {},
     "output_type": "execute_result"
    }
   ],
   "source": [
    "X_train"
   ]
  },
  {
   "cell_type": "code",
   "execution_count": 18,
   "id": "79d2c2f0",
   "metadata": {},
   "outputs": [
    {
     "data": {
      "text/plain": [
       "array([[ 1.15336989,  1.04990386,  1.        , ...,  1.        ,\n",
       "         0.        ,  1.        ],\n",
       "       [-0.21716055,  0.3256506 ,  1.        , ...,  0.        ,\n",
       "         1.        ,  0.        ],\n",
       "       [ 0.26252511,  0.2598094 ,  0.        , ...,  1.        ,\n",
       "         0.        ,  1.        ],\n",
       "       ...,\n",
       "       [ 0.81073728,  0.52317422,  1.        , ...,  0.        ,\n",
       "         0.        ,  1.        ],\n",
       "       [ 0.53663119,  0.39149181,  1.        , ...,  1.        ,\n",
       "         0.        ,  1.        ],\n",
       "       [ 0.33105163,  0.2598094 ,  1.        , ...,  1.        ,\n",
       "         1.        ,  0.        ]])"
      ]
     },
     "execution_count": 18,
     "metadata": {},
     "output_type": "execute_result"
    }
   ],
   "source": [
    "X_test"
   ]
  },
  {
   "cell_type": "code",
   "execution_count": 19,
   "id": "54223a68",
   "metadata": {},
   "outputs": [
    {
     "data": {
      "text/plain": [
       "(800, 19)"
      ]
     },
     "execution_count": 19,
     "metadata": {},
     "output_type": "execute_result"
    }
   ],
   "source": [
    "X_train.shape"
   ]
  },
  {
   "cell_type": "code",
   "execution_count": 20,
   "id": "17353e5e",
   "metadata": {},
   "outputs": [
    {
     "data": {
      "text/plain": [
       "(200, 19)"
      ]
     },
     "execution_count": 20,
     "metadata": {},
     "output_type": "execute_result"
    }
   ],
   "source": [
    "X_test.shape"
   ]
  },
  {
   "cell_type": "code",
   "execution_count": 21,
   "id": "ea4aa13a",
   "metadata": {},
   "outputs": [
    {
     "data": {
      "text/plain": [
       "(800,)"
      ]
     },
     "execution_count": 21,
     "metadata": {},
     "output_type": "execute_result"
    }
   ],
   "source": [
    "y_train.shape"
   ]
  },
  {
   "cell_type": "code",
   "execution_count": 22,
   "id": "10f87c76",
   "metadata": {},
   "outputs": [
    {
     "data": {
      "text/plain": [
       "(200,)"
      ]
     },
     "execution_count": 22,
     "metadata": {},
     "output_type": "execute_result"
    }
   ],
   "source": [
    "y_test.shape"
   ]
  },
  {
   "cell_type": "markdown",
   "id": "9ae23ef2",
   "metadata": {},
   "source": [
    "# Rightnow here we have done all the steps in the jupyter notebook.\n",
    "# But will do the proper way, that every step will be executed in a proper way with it's particular file."
   ]
  },
  {
   "cell_type": "markdown",
   "id": "fe15790b",
   "metadata": {},
   "source": []
  }
 ],
 "metadata": {
  "kernelspec": {
   "display_name": "Python 3",
   "language": "python",
   "name": "python3"
  },
  "language_info": {
   "codemirror_mode": {
    "name": "ipython",
    "version": 3
   },
   "file_extension": ".py",
   "mimetype": "text/x-python",
   "name": "python",
   "nbconvert_exporter": "python",
   "pygments_lexer": "ipython3",
   "version": "3.8.20"
  }
 },
 "nbformat": 4,
 "nbformat_minor": 5
}
